{
 "cells": [
  {
   "cell_type": "code",
   "execution_count": 1,
   "metadata": {},
   "outputs": [],
   "source": [
    "import cv2\n"
   ]
  },
  {
   "cell_type": "code",
   "execution_count": 2,
   "metadata": {},
   "outputs": [],
   "source": [
    "image_p=\"family.jpg\"\n",
    "cascade_path=\"haarcascade_frontalface_alt.xml\"\n"
   ]
  },
  {
   "cell_type": "code",
   "execution_count": 3,
   "metadata": {},
   "outputs": [],
   "source": [
    "photo=cv2.imread(image_p)\n",
    "hfc=cv2.CascadeClassifier(cascade_path)"
   ]
  },
  {
   "cell_type": "code",
   "execution_count": null,
   "metadata": {},
   "outputs": [
    {
     "name": "stdout",
     "output_type": "stream",
     "text": [
      "Found 4 faces\n"
     ]
    }
   ],
   "source": [
    "faces=hfc.detectMultiScale(photo,scaleFactor=1.5,minNeighbors=5,minSize=(30,30))\n",
    "print(\"Found {0} faces\".format(len(faces)))\n",
    "\n",
    "for (r,l,w,h) in faces:\n",
    "    cv2.rectangle(photo,(r,l),(r+w,l+h),color=(0,200,0),thickness=2)\n",
    "\n",
    "cv2.imshow(\"Faces Found\",photo)\n",
    "cv2.waitKey(0)\n",
    "\n"
   ]
  },
  {
   "cell_type": "code",
   "execution_count": null,
   "metadata": {},
   "outputs": [],
   "source": []
  }
 ],
 "metadata": {
  "kernelspec": {
   "display_name": "Python 3",
   "language": "python",
   "name": "python3"
  },
  "language_info": {
   "codemirror_mode": {
    "name": "ipython",
    "version": 3
   },
   "file_extension": ".py",
   "mimetype": "text/x-python",
   "name": "python",
   "nbconvert_exporter": "python",
   "pygments_lexer": "ipython3",
   "version": "3.7.4"
  }
 },
 "nbformat": 4,
 "nbformat_minor": 2
}
